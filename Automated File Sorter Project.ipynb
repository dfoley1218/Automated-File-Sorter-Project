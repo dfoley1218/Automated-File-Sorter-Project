{
 "cells": [
  {
   "cell_type": "code",
   "execution_count": 4,
   "id": "2554436e-5943-4cc5-b8b2-61ab258e117e",
   "metadata": {},
   "outputs": [],
   "source": [
    "import os, shutil"
   ]
  },
  {
   "cell_type": "code",
   "execution_count": 14,
   "id": "d72bd7c2-951e-4499-bb78-4c2b118117b9",
   "metadata": {},
   "outputs": [],
   "source": [
    "path = r'F:\\Python Tutorial\\\\'"
   ]
  },
  {
   "cell_type": "code",
   "execution_count": 10,
   "id": "6b233715-43d9-4a1e-8f38-6c3b4da6db32",
   "metadata": {},
   "outputs": [
    {
     "data": {
      "text/plain": [
       "['CSVFile.CSV',\n",
       " 'Example_Folder',\n",
       " 'Example_Folder2',\n",
       " 'Example_Folder3',\n",
       " 'Fake_File.json',\n",
       " 'Fake_File.tsv',\n",
       " 'Fake_File.txt',\n",
       " 'New_File1.txt']"
      ]
     },
     "execution_count": 10,
     "metadata": {},
     "output_type": "execute_result"
    }
   ],
   "source": [
    "os.listdir(path)"
   ]
  },
  {
   "cell_type": "code",
   "execution_count": 12,
   "id": "8a2f1ed1-c304-4e54-b0de-e744d3aa6bbe",
   "metadata": {},
   "outputs": [],
   "source": [
    "# First portion is to create the folders to be categorized. "
   ]
  },
  {
   "cell_type": "code",
   "execution_count": null,
   "id": "e1524c92-bf6e-408e-8275-d495f0101abf",
   "metadata": {},
   "outputs": [],
   "source": [
    "# os.makedirs(path + new_folder_name)"
   ]
  },
  {
   "cell_type": "code",
   "execution_count": 18,
   "id": "9fbe029e-17c4-4ecf-8140-6c1cfbce8081",
   "metadata": {},
   "outputs": [],
   "source": [
    "folder_names = ['CSV Files', 'Text Files', 'JSON files']\n",
    "\n",
    "# File Path: 'F:\\Python Tutorial\\'\n",
    "\n",
    "for folder in folder_names:\n",
    "    if not os.path.exists(path + folder):\n",
    "        os.makedirs(path + folder)"
   ]
  },
  {
   "cell_type": "code",
   "execution_count": 20,
   "id": "0c9ed986-c60e-448e-9b04-6a34a71559e9",
   "metadata": {},
   "outputs": [],
   "source": [
    "# All above folders in folder_names have been created in F:"
   ]
  },
  {
   "cell_type": "code",
   "execution_count": 22,
   "id": "28081b52-5508-46ac-b60c-362af23b66a5",
   "metadata": {},
   "outputs": [
    {
     "data": {
      "text/plain": [
       "['CSV Files',\n",
       " 'CSVFile.CSV',\n",
       " 'Example_Folder',\n",
       " 'Example_Folder2',\n",
       " 'Example_Folder3',\n",
       " 'Fake_File.json',\n",
       " 'Fake_File.tsv',\n",
       " 'Fake_File.txt',\n",
       " 'JSON files',\n",
       " 'New_File1.txt',\n",
       " 'Text Files']"
      ]
     },
     "execution_count": 22,
     "metadata": {},
     "output_type": "execute_result"
    }
   ],
   "source": [
    "os.listdir(path)"
   ]
  },
  {
   "cell_type": "code",
   "execution_count": 24,
   "id": "c13cd39d-b67b-4858-a4e7-3cd07bab8682",
   "metadata": {},
   "outputs": [],
   "source": [
    "file_names = os.listdir(path)"
   ]
  },
  {
   "cell_type": "code",
   "execution_count": 30,
   "id": "dd330581-17fb-4a21-88ad-6cf3e44fd150",
   "metadata": {},
   "outputs": [],
   "source": [
    "for file in file_names:\n",
    "    if \".csv\" in file and not os.path.exists(path + \"CSV Files\\\\\" + file):\n",
    "        shutil.move(path + file, path + \"CSV Files\\\\\" + file)\n",
    "    elif \".txt\" in file and not os.path.exists(path + \"Text Files\\\\\" + file):\n",
    "        shutil.move(path + file, path + \"Text Files\\\\\" + file)\n",
    "    elif \".json\" in file and not os.path.exists(path + \"JSON Files\\\\\" + file):\n",
    "        shutil.move(path + file, path + \"JSON Files\\\\\" + file)\n"
   ]
  },
  {
   "cell_type": "code",
   "execution_count": null,
   "id": "b525647b-cc02-4e99-9405-f5a57a0f676c",
   "metadata": {},
   "outputs": [],
   "source": [
    "# All files have been sorted. Now let's combine all of this into one script."
   ]
  },
  {
   "cell_type": "code",
   "execution_count": 38,
   "id": "7b78d109-f8bc-4797-b0ad-854de388ffa8",
   "metadata": {},
   "outputs": [],
   "source": [
    "path = r'F:\\Python Tutorial\\\\'\n",
    "\n",
    "folder_names = ['CSV Files', 'Text Files', 'JSON files']\n",
    "\n",
    "# File Path: 'F:\\Python Tutorial\\'\n",
    "\n",
    "for folder in folder_names:\n",
    "    if not os.path.exists(path + folder):\n",
    "        os.makedirs(path + folder)\n",
    "\n",
    "file_names = os.listdir(path)\n",
    "\n",
    "for file in file_names:\n",
    "    if \".csv\" in file and not os.path.exists(path + \"CSV Files\\\\\" + file):\n",
    "        shutil.move(path + file, path + \"CSV Files\\\\\" + file)\n",
    "    elif \".txt\" in file and not os.path.exists(path + \"Text Files\\\\\" + file):\n",
    "        shutil.move(path + file, path + \"Text Files\\\\\" + file)\n",
    "    elif \".json\" in file and not os.path.exists(path + \"JSON Files\\\\\" + file):\n",
    "        shutil.move(path + file, path + \"JSON Files\\\\\" + file)\n"
   ]
  },
  {
   "cell_type": "code",
   "execution_count": null,
   "id": "ae45749a-4ab8-4762-bcd3-4de176c56226",
   "metadata": {},
   "outputs": [],
   "source": []
  },
  {
   "cell_type": "code",
   "execution_count": null,
   "id": "f768048d-50f3-4e88-b7bc-e7660a142c7f",
   "metadata": {},
   "outputs": [],
   "source": []
  },
  {
   "cell_type": "code",
   "execution_count": null,
   "id": "019365f5-2a95-480a-b841-a6fcf9017afc",
   "metadata": {},
   "outputs": [],
   "source": []
  },
  {
   "cell_type": "code",
   "execution_count": null,
   "id": "9a8abed8-d847-41e9-947e-77998b449f65",
   "metadata": {},
   "outputs": [],
   "source": []
  },
  {
   "cell_type": "code",
   "execution_count": null,
   "id": "fc186d72-7dab-437c-9ff1-d26df89d7855",
   "metadata": {},
   "outputs": [],
   "source": []
  },
  {
   "cell_type": "code",
   "execution_count": null,
   "id": "5d9cf234-a19e-4199-b2f3-feb33c6e099c",
   "metadata": {},
   "outputs": [],
   "source": []
  },
  {
   "cell_type": "code",
   "execution_count": null,
   "id": "a23046e7-7e9e-4724-af83-e4f140647add",
   "metadata": {},
   "outputs": [],
   "source": []
  },
  {
   "cell_type": "code",
   "execution_count": null,
   "id": "114d40da-6444-43e0-bf91-33d9242a65fa",
   "metadata": {},
   "outputs": [],
   "source": []
  },
  {
   "cell_type": "code",
   "execution_count": null,
   "id": "c7abc8cd-d6da-4c63-8f90-b2e2bcd40e19",
   "metadata": {},
   "outputs": [],
   "source": []
  },
  {
   "cell_type": "code",
   "execution_count": null,
   "id": "de2d877b-fa61-4434-9298-8d79b2fb2ecf",
   "metadata": {},
   "outputs": [],
   "source": []
  },
  {
   "cell_type": "code",
   "execution_count": null,
   "id": "a8c3af9b-bb7d-4766-8ba4-6ebbf5ea87ad",
   "metadata": {},
   "outputs": [],
   "source": []
  },
  {
   "cell_type": "code",
   "execution_count": null,
   "id": "b2ec0a84-5a62-4920-8785-5b20ca3b7f8f",
   "metadata": {},
   "outputs": [],
   "source": []
  },
  {
   "cell_type": "code",
   "execution_count": null,
   "id": "dca48358-ef6c-4554-bc39-a8291f3a5fd7",
   "metadata": {},
   "outputs": [],
   "source": []
  },
  {
   "cell_type": "code",
   "execution_count": null,
   "id": "6693c85c-8dba-4f4f-bcaf-7eaae5bc21af",
   "metadata": {},
   "outputs": [],
   "source": []
  },
  {
   "cell_type": "code",
   "execution_count": null,
   "id": "9f174e6a-3bf8-43b7-bd7c-0400fd7985a3",
   "metadata": {},
   "outputs": [],
   "source": []
  },
  {
   "cell_type": "code",
   "execution_count": null,
   "id": "a711abf0-2fd3-4be6-a0f4-ac2c823ea980",
   "metadata": {},
   "outputs": [],
   "source": []
  },
  {
   "cell_type": "code",
   "execution_count": null,
   "id": "0190709c-aaa7-412e-9d5b-c218db58e3b1",
   "metadata": {},
   "outputs": [],
   "source": []
  },
  {
   "cell_type": "code",
   "execution_count": null,
   "id": "776d41af-f50e-4999-a2cc-43cd2433bf19",
   "metadata": {},
   "outputs": [],
   "source": []
  },
  {
   "cell_type": "code",
   "execution_count": null,
   "id": "5b1c1d61-3fe0-4ad6-bfce-9e588fb310d9",
   "metadata": {},
   "outputs": [],
   "source": []
  },
  {
   "cell_type": "code",
   "execution_count": null,
   "id": "07d28293-bd8e-4646-9e19-e3172010cc75",
   "metadata": {},
   "outputs": [],
   "source": []
  },
  {
   "cell_type": "code",
   "execution_count": null,
   "id": "6a77dfc6-aa74-44c5-a62d-665948a411c7",
   "metadata": {},
   "outputs": [],
   "source": []
  },
  {
   "cell_type": "code",
   "execution_count": null,
   "id": "314154a2-4fbd-435a-bb91-7af8ac2894b0",
   "metadata": {},
   "outputs": [],
   "source": []
  },
  {
   "cell_type": "code",
   "execution_count": null,
   "id": "ae419451-8b38-47dc-a2f9-b63d3046dce8",
   "metadata": {},
   "outputs": [],
   "source": []
  },
  {
   "cell_type": "code",
   "execution_count": null,
   "id": "2bf32d1c-9b40-49fa-8cba-79c103255db3",
   "metadata": {},
   "outputs": [],
   "source": []
  },
  {
   "cell_type": "code",
   "execution_count": null,
   "id": "1da3690d-cef6-468e-9481-1913309eea35",
   "metadata": {},
   "outputs": [],
   "source": []
  },
  {
   "cell_type": "code",
   "execution_count": null,
   "id": "b4514e53-5b45-4c20-92cf-7aa59b25fef8",
   "metadata": {},
   "outputs": [],
   "source": []
  },
  {
   "cell_type": "code",
   "execution_count": null,
   "id": "2b293539-a98d-4ddd-97a3-cece26d17541",
   "metadata": {},
   "outputs": [],
   "source": []
  },
  {
   "cell_type": "code",
   "execution_count": null,
   "id": "d582ef1a-bde0-4777-9340-11794bc6c1f2",
   "metadata": {},
   "outputs": [],
   "source": []
  },
  {
   "cell_type": "code",
   "execution_count": null,
   "id": "1b0515a9-692f-43a4-a089-9622ca62c566",
   "metadata": {},
   "outputs": [],
   "source": []
  },
  {
   "cell_type": "code",
   "execution_count": null,
   "id": "b188df6f-7c25-42dc-8d52-7030a69f482e",
   "metadata": {},
   "outputs": [],
   "source": []
  }
 ],
 "metadata": {
  "kernelspec": {
   "display_name": "Python [conda env:base] *",
   "language": "python",
   "name": "conda-base-py"
  },
  "language_info": {
   "codemirror_mode": {
    "name": "ipython",
    "version": 3
   },
   "file_extension": ".py",
   "mimetype": "text/x-python",
   "name": "python",
   "nbconvert_exporter": "python",
   "pygments_lexer": "ipython3",
   "version": "3.12.7"
  }
 },
 "nbformat": 4,
 "nbformat_minor": 5
}
